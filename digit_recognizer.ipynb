{
  "nbformat": 4,
  "nbformat_minor": 0,
  "metadata": {
    "colab": {
      "name": "digit-recognizer.ipynb",
      "provenance": [],
      "authorship_tag": "ABX9TyMKNs1kkSwPiKR7TDd6ZfZb",
      "include_colab_link": true
    },
    "kernelspec": {
      "name": "python3",
      "display_name": "Python 3"
    }
  },
  "cells": [
    {
      "cell_type": "markdown",
      "metadata": {
        "id": "view-in-github",
        "colab_type": "text"
      },
      "source": [
        "<a href=\"https://colab.research.google.com/github/harbenml/digit-recognizer/blob/main/digit_recognizer.ipynb\" target=\"_parent\"><img src=\"https://colab.research.google.com/assets/colab-badge.svg\" alt=\"Open In Colab\"/></a>"
      ]
    },
    {
      "cell_type": "markdown",
      "metadata": {
        "id": "79A4mvNhO3Sd"
      },
      "source": [
        "# Clone repo and install\n",
        "\n",
        "First, we have to download the repo files and to install the package in the local environment."
      ]
    },
    {
      "cell_type": "code",
      "metadata": {
        "id": "qDehAz6qf5ed",
        "colab": {
          "base_uri": "https://localhost:8080/"
        },
        "outputId": "589413d9-2cd4-432f-ee23-cdb718857de3"
      },
      "source": [
        "import os \n",
        "import sys\n",
        "import subprocess\n",
        "\n",
        "REPO_LOCATION = 'https://github.com/harbenml/digit-recognizer.git'\n",
        "REPO_NAME = 'digit-recognizer'\n",
        "REPO_BRANCH = 'master'\n",
        "\n",
        "# Clone the repository\n",
        "print('cloning the repository')\n",
        "subprocess.call(['git', 'clone', REPO_LOCATION])\n",
        "\n",
        "# Setting env variables\n",
        "print('set path to repository')\n",
        "sys.path.append(REPO_NAME)\n",
        "\n",
        "# Change folder and create data folder where the MNIST data will be downloaded\n",
        "cd digit-recognizer/\n",
        "!mkdir data\n",
        "\n",
        "# Install digit-recognizer package\n",
        "pip install -e ."
      ],
      "execution_count": 2,
      "outputs": [
        {
          "output_type": "stream",
          "text": [
            "cloning the repository\n"
          ],
          "name": "stdout"
        },
        {
          "output_type": "execute_result",
          "data": {
            "text/plain": [
              "128"
            ]
          },
          "metadata": {
            "tags": []
          },
          "execution_count": 2
        }
      ]
    },
    {
      "cell_type": "markdown",
      "metadata": {
        "id": "OPdYVjQ1PPny"
      },
      "source": [
        "# Training\n",
        "\n",
        "The training is done using the module src/train.py."
      ]
    },
    {
      "cell_type": "code",
      "metadata": {
        "colab": {
          "base_uri": "https://localhost:8080/"
        },
        "id": "P4R4TOnze85q",
        "outputId": "29ea9ee4-57da-42e9-89d6-9d6441e2e3a2"
      },
      "source": [
        "%run src/train.py"
      ],
      "execution_count": 15,
      "outputs": [
        {
          "output_type": "stream",
          "text": [
            "Start training\n",
            "0 0.9962779569625855\n",
            "1 0.945224040222168\n"
          ],
          "name": "stdout"
        }
      ]
    }
  ]
}