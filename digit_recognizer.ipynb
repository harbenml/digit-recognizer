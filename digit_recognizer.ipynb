{
  "nbformat": 4,
  "nbformat_minor": 0,
  "metadata": {
    "colab": {
      "name": "digit-recognizer.ipynb",
      "provenance": [],
      "authorship_tag": "ABX9TyMeGnDNARsXBVQIgGh335YW",
      "include_colab_link": true
    },
    "kernelspec": {
      "name": "python3",
      "display_name": "Python 3"
    },
    "accelerator": "GPU"
  },
  "cells": [
    {
      "cell_type": "markdown",
      "metadata": {
        "id": "view-in-github",
        "colab_type": "text"
      },
      "source": [
        "<a href=\"https://colab.research.google.com/github/harbenml/digit-recognizer/blob/main/digit_recognizer.ipynb\" target=\"_parent\"><img src=\"https://colab.research.google.com/assets/colab-badge.svg\" alt=\"Open In Colab\"/></a>"
      ]
    },
    {
      "cell_type": "markdown",
      "metadata": {
        "id": "79A4mvNhO3Sd"
      },
      "source": [
        "# Clone repo and install\n",
        "\n",
        "First, we have to download the repo files and to install the package in the local environment."
      ]
    },
    {
      "cell_type": "code",
      "metadata": {
        "id": "qDehAz6qf5ed",
        "colab": {
          "base_uri": "https://localhost:8080/"
        },
        "outputId": "6592cf9e-00ec-4628-edb4-b534adb821af"
      },
      "source": [
        "import os \n",
        "import sys\n",
        "import subprocess\n",
        "\n",
        "REPO_LOCATION = 'https://github.com/harbenml/digit-recognizer.git'\n",
        "REPO_NAME = 'digit-recognizer'\n",
        "REPO_BRANCH = 'master'\n",
        "\n",
        "# Clone the repository\n",
        "print('cloning the repository')\n",
        "subprocess.call(['git', 'clone', REPO_LOCATION])\n",
        "\n",
        "# Setting env variables\n",
        "print('set path to repository')\n",
        "sys.path.append(REPO_NAME)\n",
        "\n",
        "# Change folder and create data folder where the MNIST data will be downloaded\n",
        "%cd digit-recognizer/\n",
        "!mkdir data\n",
        "\n",
        "# Install digit-recognizer package\n",
        "!pip install -e ."
      ],
      "execution_count": 1,
      "outputs": [
        {
          "output_type": "stream",
          "text": [
            "cloning the repository\n",
            "set path to repository\n",
            "/content/digit-recognizer\n",
            "Obtaining file:///content/digit-recognizer\n",
            "Installing collected packages: digit-recognizer\n",
            "  Running setup.py develop for digit-recognizer\n",
            "Successfully installed digit-recognizer\n"
          ],
          "name": "stdout"
        }
      ]
    },
    {
      "cell_type": "markdown",
      "metadata": {
        "id": "OPdYVjQ1PPny"
      },
      "source": [
        "# Training\n",
        "\n",
        "The training is done using the module src/train.py."
      ]
    },
    {
      "cell_type": "code",
      "metadata": {
        "colab": {
          "base_uri": "https://localhost:8080/"
        },
        "id": "P4R4TOnze85q",
        "outputId": "31d9e65e-8c67-4257-cbb3-5dfe5a0e6d0d"
      },
      "source": [
        "%run src/train.py"
      ],
      "execution_count": 2,
      "outputs": [
        {
          "output_type": "stream",
          "text": [
            "Training uses GPU\n",
            "Start training\n",
            "0 0.2958352260828018\n",
            "1 0.24749458496570587\n",
            "2 0.17223669740855693\n",
            "3 0.1563050105318427\n",
            "4 0.16006772804409267\n",
            "5 0.12135692258924245\n",
            "6 0.12485960521996022\n",
            "7 0.16475126382187008\n",
            "8 0.13480418167561292\n",
            "9 0.11085765353068709\n",
            "10 0.11908775630742312\n",
            "11 0.15913258737921715\n",
            "12 0.11838554438054562\n",
            "13 0.11832296877466142\n",
            "14 0.10262184494100511\n",
            "15 0.10548532049804926\n",
            "16 0.10962582691218704\n",
            "17 0.10550819389633834\n",
            "18 0.1129398507013917\n",
            "19 0.10216410299241543\n",
            "20 0.10200384931787848\n",
            "21 0.11322122722789645\n",
            "22 0.11305409512864426\n",
            "23 0.10369003893276676\n",
            "24 0.13487056179344653\n",
            "25 0.11697107792533934\n",
            "26 0.10973275864645839\n",
            "27 0.1059449107721448\n",
            "28 0.11566888131033629\n",
            "29 0.11012615666501224\n"
          ],
          "name": "stdout"
        }
      ]
    },
    {
      "cell_type": "code",
      "metadata": {
        "id": "33EHFX9RQqCd"
      },
      "source": [
        ""
      ],
      "execution_count": null,
      "outputs": []
    }
  ]
}