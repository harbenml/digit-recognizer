{
  "nbformat": 4,
  "nbformat_minor": 0,
  "metadata": {
    "colab": {
      "name": "digit-recognizer.ipynb",
      "provenance": [],
      "authorship_tag": "ABX9TyMeGnDNARsXBVQIgGh335YW",
      "include_colab_link": true
    },
    "kernelspec": {
      "name": "python3",
      "display_name": "Python 3"
    }
  },
  "cells": [
    {
      "cell_type": "markdown",
      "metadata": {
        "id": "view-in-github",
        "colab_type": "text"
      },
      "source": [
        "<a href=\"https://colab.research.google.com/github/harbenml/digit-recognizer/blob/main/digit_recognizer.ipynb\" target=\"_parent\"><img src=\"https://colab.research.google.com/assets/colab-badge.svg\" alt=\"Open In Colab\"/></a>"
      ]
    },
    {
      "cell_type": "markdown",
      "metadata": {
        "id": "79A4mvNhO3Sd"
      },
      "source": [
        "# Clone repo and install\n",
        "\n",
        "First, we have to download the repo files and to install the package in the local environment."
      ]
    },
    {
      "cell_type": "code",
      "metadata": {
        "id": "qDehAz6qf5ed",
        "colab": {
          "base_uri": "https://localhost:8080/"
        },
        "outputId": "2fb88ca3-41e3-47e6-c608-1ebb9f5d38d6"
      },
      "source": [
        "import os \n",
        "import sys\n",
        "import subprocess\n",
        "\n",
        "REPO_LOCATION = 'https://github.com/harbenml/digit-recognizer.git'\n",
        "REPO_NAME = 'digit-recognizer'\n",
        "REPO_BRANCH = 'master'\n",
        "\n",
        "# Clone the repository\n",
        "print('cloning the repository')\n",
        "subprocess.call(['git', 'clone', REPO_LOCATION])\n",
        "\n",
        "# Setting env variables\n",
        "print('set path to repository')\n",
        "sys.path.append(REPO_NAME)\n",
        "\n",
        "# Change folder and create data folder where the MNIST data will be downloaded\n",
        "%cd digit-recognizer/\n",
        "!mkdir data\n",
        "\n",
        "# Install digit-recognizer package\n",
        "!pip install -e ."
      ],
      "execution_count": 3,
      "outputs": [
        {
          "output_type": "stream",
          "text": [
            "cloning the repository\n",
            "set path to repository\n",
            "/content/digit-recognizer\n",
            "Obtaining file:///content/digit-recognizer\n",
            "Installing collected packages: digit-recognizer\n",
            "  Running setup.py develop for digit-recognizer\n",
            "Successfully installed digit-recognizer\n"
          ],
          "name": "stdout"
        }
      ]
    },
    {
      "cell_type": "markdown",
      "metadata": {
        "id": "OPdYVjQ1PPny"
      },
      "source": [
        "# Training\n",
        "\n",
        "The training is done using the module src/train.py."
      ]
    },
    {
      "cell_type": "code",
      "metadata": {
        "colab": {
          "base_uri": "https://localhost:8080/"
        },
        "id": "P4R4TOnze85q",
        "outputId": "ed0fde8b-e0d5-4ca1-e94c-27c8395da828"
      },
      "source": [
        "%run src/train.py"
      ],
      "execution_count": 4,
      "outputs": [
        {
          "output_type": "stream",
          "text": [
            "Start training\n",
            "0 0.353146288895607\n",
            "1 0.24472660276293753\n"
          ],
          "name": "stdout"
        }
      ]
    },
    {
      "cell_type": "code",
      "metadata": {
        "id": "33EHFX9RQqCd"
      },
      "source": [
        ""
      ],
      "execution_count": null,
      "outputs": []
    }
  ]
}