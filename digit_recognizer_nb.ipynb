{
  "nbformat": 4,
  "nbformat_minor": 0,
  "metadata": {
    "colab": {
      "name": "digit-recognizer.ipynb",
      "provenance": [],
      "authorship_tag": "ABX9TyOzspXAY4XNn6igLYeL3y10",
      "include_colab_link": true
    },
    "kernelspec": {
      "name": "python3",
      "display_name": "Python 3"
    }
  },
  "cells": [
    {
      "cell_type": "markdown",
      "metadata": {
        "id": "view-in-github",
        "colab_type": "text"
      },
      "source": [
        "<a href=\"https://colab.research.google.com/github/harbenml/digit-recognizer/blob/main/digit_recognizer.ipynb\" target=\"_parent\"><img src=\"https://colab.research.google.com/assets/colab-badge.svg\" alt=\"Open In Colab\"/></a>"
      ]
    },
    {
      "cell_type": "code",
      "metadata": {
        "id": "qDehAz6qf5ed",
        "colab": {
          "base_uri": "https://localhost:8080/"
        },
        "outputId": "8aa632ff-e963-426f-edad-54dcefbaa03b"
      },
      "source": [
        "import os \n",
        "import sys\n",
        "import subprocess\n",
        "\n",
        "REPO_LOCATION = 'https://github.com/harbenml/digit-recognizer.git'\n",
        "REPO_NAME = 'digit-recognizer'\n",
        "REPO_BRANCH = 'master'\n",
        "\n",
        "# Clone the repository\n",
        "print('cloning the repository')\n",
        "subprocess.call(['git', 'clone', REPO_LOCATION])"
      ],
      "execution_count": 12,
      "outputs": [
        {
          "output_type": "stream",
          "text": [
            "cloning the repository\n"
          ],
          "name": "stdout"
        },
        {
          "output_type": "execute_result",
          "data": {
            "text/plain": [
              "0"
            ]
          },
          "metadata": {
            "tags": []
          },
          "execution_count": 12
        }
      ]
    },
    {
      "cell_type": "code",
      "metadata": {
        "id": "PpV41iIqhLud",
        "outputId": "9c425ff7-9d71-4ee6-b638-238dff4d151d",
        "colab": {
          "base_uri": "https://localhost:8080/"
        }
      },
      "source": [
        "ls"
      ],
      "execution_count": 13,
      "outputs": [
        {
          "output_type": "stream",
          "text": [
            "\u001b[0m\u001b[01;34mdigit-recognizer\u001b[0m/  \u001b[01;34msample_data\u001b[0m/\n"
          ],
          "name": "stdout"
        }
      ]
    },
    {
      "cell_type": "code",
      "metadata": {
        "id": "95pcHKqPgqo1",
        "colab": {
          "base_uri": "https://localhost:8080/"
        },
        "outputId": "1e02ee6f-d8df-4383-c29b-c13c4cf6932b"
      },
      "source": [
        "cd digit-recognizer/"
      ],
      "execution_count": 14,
      "outputs": [
        {
          "output_type": "stream",
          "text": [
            "/content/digit-recognizer\n"
          ],
          "name": "stdout"
        }
      ]
    },
    {
      "cell_type": "code",
      "metadata": {
        "id": "7SUHG8gBgR8T",
        "outputId": "4eb61e30-5962-4bbe-868c-f28dee51913d",
        "colab": {
          "base_uri": "https://localhost:8080/"
        }
      },
      "source": [
        "pip install -e ."
      ],
      "execution_count": 15,
      "outputs": [
        {
          "output_type": "stream",
          "text": [
            "Obtaining file:///content/digit-recognizer\n",
            "Installing collected packages: digit-recognizer\n",
            "  Running setup.py develop for digit-recognizer\n",
            "Successfully installed digit-recognizer\n"
          ],
          "name": "stdout"
        }
      ]
    },
    {
      "cell_type": "code",
      "metadata": {
        "id": "LMoL5cP1f4zI"
      },
      "source": [
        "# Setting env variables\n",
        "sys.path.append(REPO_NAME)"
      ],
      "execution_count": null,
      "outputs": []
    },
    {
      "cell_type": "code",
      "metadata": {
        "id": "OGw1RnmThEGN",
        "colab": {
          "base_uri": "https://localhost:8080/"
        },
        "outputId": "1a428ab1-bf31-4e8b-e863-ef7d9f455d16"
      },
      "source": [
        "sys.path"
      ],
      "execution_count": 16,
      "outputs": [
        {
          "output_type": "execute_result",
          "data": {
            "text/plain": [
              "['',\n",
              " '/env/python',\n",
              " '/usr/lib/python36.zip',\n",
              " '/usr/lib/python3.6',\n",
              " '/usr/lib/python3.6/lib-dynload',\n",
              " '/usr/local/lib/python3.6/dist-packages',\n",
              " '/usr/lib/python3/dist-packages',\n",
              " '/usr/local/lib/python3.6/dist-packages/IPython/extensions',\n",
              " '/root/.ipython']"
            ]
          },
          "metadata": {
            "tags": []
          },
          "execution_count": 16
        }
      ]
    },
    {
      "cell_type": "code",
      "metadata": {
        "id": "NqHoqNOphJw5",
        "colab": {
          "base_uri": "https://localhost:8080/"
        },
        "outputId": "bb55a9ba-4509-4ea5-e3de-ccaa8b22c40b"
      },
      "source": [
        "%cd digit-recognizer/\n",
        "%ls\n"
      ],
      "execution_count": null,
      "outputs": [
        {
          "output_type": "stream",
          "text": [
            "/content/digit-recognizer\n",
            "digit_recognizer.ipynb  LICENSE    requirements.txt  \u001b[0m\u001b[01;34mtests\u001b[0m/\n",
            "environment.yml         README.md  \u001b[01;34msrc\u001b[0m/\n"
          ],
          "name": "stdout"
        }
      ]
    },
    {
      "cell_type": "code",
      "metadata": {
        "id": "wOA2cN0Nh0m_",
        "outputId": "18768aaa-b738-4062-d78b-dafb17933f9c",
        "colab": {
          "base_uri": "https://localhost:8080/"
        }
      },
      "source": [
        "cd src"
      ],
      "execution_count": 20,
      "outputs": [
        {
          "output_type": "stream",
          "text": [
            "/content/digit-recognizer/src\n"
          ],
          "name": "stdout"
        }
      ]
    },
    {
      "cell_type": "code",
      "metadata": {
        "id": "r9JJ2u5zgVm2"
      },
      "source": [
        "from train import fit"
      ],
      "execution_count": 21,
      "outputs": []
    },
    {
      "cell_type": "code",
      "metadata": {
        "id": "jpeFCsdugVXw",
        "outputId": "160426c3-6cb3-4579-bdfc-cf852aca97d2",
        "colab": {
          "base_uri": "https://localhost:8080/"
        }
      },
      "source": [
        "cd .."
      ],
      "execution_count": 22,
      "outputs": [
        {
          "output_type": "stream",
          "text": [
            "/content/digit-recognizer\n"
          ],
          "name": "stdout"
        }
      ]
    },
    {
      "cell_type": "code",
      "metadata": {
        "colab": {
          "base_uri": "https://localhost:8080/"
        },
        "id": "xa7g4dbseeb4",
        "outputId": "8df3ea3c-0cb5-4b39-d7fb-f5e61b08d0ab"
      },
      "source": [
        "!git clone https://github.com/harbenml/digit-recognizer.git"
      ],
      "execution_count": null,
      "outputs": [
        {
          "output_type": "stream",
          "text": [
            "Cloning into 'digit-recognizer'...\n",
            "remote: Enumerating objects: 60, done.\u001b[K\n",
            "remote: Counting objects: 100% (60/60), done.\u001b[K\n",
            "remote: Compressing objects: 100% (39/39), done.\u001b[K\n",
            "remote: Total 60 (delta 27), reused 45 (delta 19), pack-reused 0\u001b[K\n",
            "Unpacking objects: 100% (60/60), done.\n"
          ],
          "name": "stdout"
        }
      ]
    },
    {
      "cell_type": "code",
      "metadata": {
        "colab": {
          "base_uri": "https://localhost:8080/"
        },
        "id": "fP1ELyuMenHi",
        "outputId": "d0712076-7911-484f-9ab9-7c85422681dc"
      },
      "source": [
        "%cd digit-recognizer/"
      ],
      "execution_count": null,
      "outputs": [
        {
          "output_type": "stream",
          "text": [
            "/content/digit-recognizer\n"
          ],
          "name": "stdout"
        }
      ]
    },
    {
      "cell_type": "code",
      "metadata": {
        "id": "qE77nCEhjJGr"
      },
      "source": [
        "!mkdir data "
      ],
      "execution_count": 24,
      "outputs": []
    },
    {
      "cell_type": "code",
      "metadata": {
        "colab": {
          "base_uri": "https://localhost:8080/"
        },
        "id": "QvGY7ab1jNzX",
        "outputId": "7d0207f5-d728-4b42-c94b-92c6c7809912"
      },
      "source": [
        "!ls"
      ],
      "execution_count": null,
      "outputs": [
        {
          "output_type": "stream",
          "text": [
            "data\t\t\tenvironment.yml  README.md\t   src\n",
            "digit_recognizer.ipynb\tLICENSE\t\t requirements.txt  tests\n"
          ],
          "name": "stdout"
        }
      ]
    },
    {
      "cell_type": "code",
      "metadata": {
        "colab": {
          "base_uri": "https://localhost:8080/"
        },
        "id": "P4R4TOnze85q",
        "outputId": "2a5f2c0c-fa82-4c93-af22-799a958f9eae"
      },
      "source": [
        "%run src/train.py"
      ],
      "execution_count": 25,
      "outputs": [
        {
          "output_type": "stream",
          "text": [
            "0 0.284397640812397\n",
            "1 0.21325406964421273\n",
            "2 0.19336313940286637\n",
            "3 0.19619925224483012\n",
            "4 0.1723545458495617\n",
            "5 0.16174648453593254\n",
            "6 0.1594652995288372\n",
            "7 0.15989073149263858\n",
            "8 0.14550159180760383\n",
            "9 0.15833424201607704\n"
          ],
          "name": "stdout"
        }
      ]
    },
    {
      "cell_type": "code",
      "metadata": {
        "id": "WtSGtDVce04O"
      },
      "source": [
        ""
      ],
      "execution_count": null,
      "outputs": []
    }
  ]
}